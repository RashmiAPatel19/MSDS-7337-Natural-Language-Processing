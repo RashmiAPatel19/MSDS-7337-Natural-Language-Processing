{
 "cells": [
  {
   "cell_type": "markdown",
   "id": "ea1f5a95",
   "metadata": {},
   "source": [
    "### SMU-MSDS-7337-Natural Language Processing HomeWork 1\n",
    "\n",
    "##### By-Rashmi Patel"
   ]
  },
  {
   "cell_type": "markdown",
   "id": "b94aaaff",
   "metadata": {},
   "source": [
    "#### Question 1\n",
    "\n",
    "##### Python and NLTK Installed Successfully"
   ]
  },
  {
   "cell_type": "markdown",
   "id": "0cd4a086",
   "metadata": {},
   "source": [
    "#### Question 2\n",
    "\n",
    "##### Lexical Diversity Scoring Routine"
   ]
  },
  {
   "cell_type": "code",
   "execution_count": 1,
   "id": "bcf2eab3",
   "metadata": {},
   "outputs": [],
   "source": [
    "import nltk\n",
    "import requests"
   ]
  },
  {
   "cell_type": "code",
   "execution_count": 2,
   "id": "7b9a445d",
   "metadata": {},
   "outputs": [
    {
     "name": "stdout",
     "output_type": "stream",
     "text": [
      "showing info https://raw.githubusercontent.com/nltk/nltk_data/gh-pages/index.xml\n"
     ]
    },
    {
     "data": {
      "text/plain": [
       "True"
      ]
     },
     "execution_count": 2,
     "metadata": {},
     "output_type": "execute_result"
    }
   ],
   "source": [
    "nltk.download()"
   ]
  },
  {
   "cell_type": "code",
   "execution_count": 3,
   "id": "0455da1a",
   "metadata": {},
   "outputs": [
    {
     "name": "stdout",
     "output_type": "stream",
     "text": [
      "*** Introductory Examples for the NLTK Book ***\n",
      "Loading text1, ..., text9 and sent1, ..., sent9\n",
      "Type the name of the text or sentence to view it.\n",
      "Type: 'texts()' or 'sents()' to list the materials.\n",
      "text1: Moby Dick by Herman Melville 1851\n",
      "text2: Sense and Sensibility by Jane Austen 1811\n",
      "text3: The Book of Genesis\n",
      "text4: Inaugural Address Corpus\n",
      "text5: Chat Corpus\n",
      "text6: Monty Python and the Holy Grail\n",
      "text7: Wall Street Journal\n",
      "text8: Personals Corpus\n",
      "text9: The Man Who Was Thursday by G . K . Chesterton 1908\n"
     ]
    }
   ],
   "source": [
    "from nltk.book import *"
   ]
  },
  {
   "cell_type": "code",
   "execution_count": 4,
   "id": "e6393aa5",
   "metadata": {},
   "outputs": [
    {
     "data": {
      "text/plain": [
       "<Text: Moby Dick by Herman Melville 1851>"
      ]
     },
     "execution_count": 4,
     "metadata": {},
     "output_type": "execute_result"
    }
   ],
   "source": [
    "text1"
   ]
  },
  {
   "cell_type": "code",
   "execution_count": 5,
   "id": "0095ff71",
   "metadata": {},
   "outputs": [
    {
     "data": {
      "text/plain": [
       "<Text: The Book of Genesis>"
      ]
     },
     "execution_count": 5,
     "metadata": {},
     "output_type": "execute_result"
    }
   ],
   "source": [
    "text3\n"
   ]
  },
  {
   "cell_type": "code",
   "execution_count": 6,
   "id": "dca30174",
   "metadata": {},
   "outputs": [
    {
     "name": "stdout",
     "output_type": "stream",
     "text": [
      "Displaying 11 of 11 matches:\n",
      "ong the former , one was of a most monstrous size . ... This came towards us , \n",
      "ON OF THE PSALMS . \" Touching that monstrous bulk of the whale or ork we have r\n",
      "ll over with a heathenish array of monstrous clubs and spears . Some were thick\n",
      "d as you gazed , and wondered what monstrous cannibal and savage could ever hav\n",
      "that has survived the flood ; most monstrous and most mountainous ! That Himmal\n",
      "they might scout at Moby Dick as a monstrous fable , or still worse and more de\n",
      "th of Radney .'\" CHAPTER 55 Of the Monstrous Pictures of Whales . I shall ere l\n",
      "ing Scenes . In connexion with the monstrous pictures of whales , I am strongly\n",
      "ere to enter upon those still more monstrous stories of them which are to be fo\n",
      "ght have been rummaged out of this monstrous cabinet there is no telling . But \n",
      "of Whale - Bones ; for Whales of a monstrous size are oftentimes cast up dead u\n"
     ]
    }
   ],
   "source": [
    "text1.concordance(\"monstrous\")\n"
   ]
  },
  {
   "cell_type": "code",
   "execution_count": 7,
   "id": "e10501f3",
   "metadata": {},
   "outputs": [
    {
     "name": "stdout",
     "output_type": "stream",
     "text": [
      "true contemptible christian abundant few part mean careful puzzled\n",
      "mystifying passing curious loving wise doleful gamesome singular\n",
      "delightfully perilous fearless\n"
     ]
    }
   ],
   "source": [
    "text1.similar(\"monstrous\")\n"
   ]
  },
  {
   "cell_type": "code",
   "execution_count": 8,
   "id": "3aa89104",
   "metadata": {},
   "outputs": [
    {
     "name": "stdout",
     "output_type": "stream",
     "text": [
      "am_glad a_pretty a_lucky is_pretty be_glad\n"
     ]
    }
   ],
   "source": [
    "text2.common_contexts([\"monstrous\", \"very\"])"
   ]
  },
  {
   "cell_type": "markdown",
   "id": "d9818b67",
   "metadata": {},
   "source": [
    "##### Lexical Diversity Score"
   ]
  },
  {
   "cell_type": "code",
   "execution_count": 9,
   "id": "286cbfdc",
   "metadata": {},
   "outputs": [
    {
     "data": {
      "text/plain": [
       "0.07406285585022564"
      ]
     },
     "execution_count": 9,
     "metadata": {},
     "output_type": "execute_result"
    }
   ],
   "source": [
    "def lexical_diversity(text):\n",
    "    return float(len(set(text))) / len(text)\n",
    "lexical_diversity(text1)"
   ]
  },
  {
   "cell_type": "code",
   "execution_count": 10,
   "id": "f9126220",
   "metadata": {},
   "outputs": [
    {
     "data": {
      "text/plain": [
       "0.04826383002768831"
      ]
     },
     "execution_count": 10,
     "metadata": {},
     "output_type": "execute_result"
    }
   ],
   "source": [
    "lexical_diversity(text2)\n"
   ]
  },
  {
   "cell_type": "code",
   "execution_count": 11,
   "id": "228f9a39",
   "metadata": {},
   "outputs": [
    {
     "data": {
      "text/plain": [
       "0.06230453042623537"
      ]
     },
     "execution_count": 11,
     "metadata": {},
     "output_type": "execute_result"
    }
   ],
   "source": [
    "lexical_diversity(text3)\n"
   ]
  },
  {
   "cell_type": "code",
   "execution_count": 12,
   "id": "25ca1926",
   "metadata": {},
   "outputs": [
    {
     "data": {
      "text/plain": [
       "0.06556530042314962"
      ]
     },
     "execution_count": 12,
     "metadata": {},
     "output_type": "execute_result"
    }
   ],
   "source": [
    "lexical_diversity(text4)"
   ]
  },
  {
   "cell_type": "code",
   "execution_count": 13,
   "id": "1f4de4d4",
   "metadata": {},
   "outputs": [
    {
     "data": {
      "text/plain": [
       "0.13477005109975562"
      ]
     },
     "execution_count": 13,
     "metadata": {},
     "output_type": "execute_result"
    }
   ],
   "source": [
    "lexical_diversity(text5)"
   ]
  },
  {
   "cell_type": "code",
   "execution_count": 14,
   "id": "96517c70",
   "metadata": {},
   "outputs": [
    {
     "data": {
      "text/plain": [
       "0.1276595744680851"
      ]
     },
     "execution_count": 14,
     "metadata": {},
     "output_type": "execute_result"
    }
   ],
   "source": [
    "lexical_diversity(text6)"
   ]
  },
  {
   "cell_type": "code",
   "execution_count": 15,
   "id": "15aac5d8",
   "metadata": {},
   "outputs": [
    {
     "data": {
      "text/plain": [
       "0.12324685128531129"
      ]
     },
     "execution_count": 15,
     "metadata": {},
     "output_type": "execute_result"
    }
   ],
   "source": [
    "lexical_diversity(text7)"
   ]
  },
  {
   "cell_type": "code",
   "execution_count": 16,
   "id": "dd165213",
   "metadata": {},
   "outputs": [
    {
     "data": {
      "text/plain": [
       "0.22765564002465585"
      ]
     },
     "execution_count": 16,
     "metadata": {},
     "output_type": "execute_result"
    }
   ],
   "source": [
    "lexical_diversity(text8)"
   ]
  },
  {
   "cell_type": "code",
   "execution_count": 17,
   "id": "32ec9732",
   "metadata": {},
   "outputs": [
    {
     "data": {
      "text/plain": [
       "0.0983485761345412"
      ]
     },
     "execution_count": 17,
     "metadata": {},
     "output_type": "execute_result"
    }
   ],
   "source": [
    "lexical_diversity(text9)"
   ]
  },
  {
   "cell_type": "markdown",
   "id": "8f393ba2",
   "metadata": {},
   "source": [
    "#### Question 3\n",
    "\n",
    "##### Get Gutenberg Text : Graded Readers"
   ]
  },
  {
   "cell_type": "code",
   "execution_count": 18,
   "id": "c4b26000",
   "metadata": {},
   "outputs": [],
   "source": [
    "text_by_grade_level = {\n",
    "    'first': 'http://www.gutenberg.org/ebooks/14640.txt.utf-8',\n",
    "    'third': 'http://www.gutenberg.org/ebooks/14766.txt.utf-8',\n",
    "    'fifth': 'http://www.gutenberg.org/ebooks/15040.txt.utf-8'\n",
    "}"
   ]
  },
  {
   "attachments": {},
   "cell_type": "markdown",
   "id": "fa6bbca4",
   "metadata": {},
   "source": [
    "##### Text Diversity Score"
   ]
  },
  {
   "cell_type": "code",
   "execution_count": 19,
   "id": "42b36119",
   "metadata": {},
   "outputs": [
    {
     "name": "stdout",
     "output_type": "stream",
     "text": [
      "level:first | text_diversity 0.0013631235898721485\n",
      "level:third | text_diversity 0.0005173674914812766\n",
      "level:fifth | text_diversity 0.00014538773918761297\n"
     ]
    }
   ],
   "source": [
    "grade_books_by_url = {}\n",
    "def get_book_text(url):\n",
    "    if url in grade_books_by_url:\n",
    "        return grade_books_by_url[url]\n",
    "    text = requests.get(url).text\n",
    "    grade_books_by_url[url] = text\n",
    "    return text\n",
    "\n",
    "def get_diversity_all_texts():\n",
    "    for text_level in text_by_grade_level:\n",
    "        url = text_by_grade_level[text_level]\n",
    "        text = get_book_text(url)\n",
    "        diversity = lexical_diversity(text)\n",
    "        print('level:{} | text_diversity {}'.format(text_level, diversity))\n",
    "get_diversity_all_texts()"
   ]
  },
  {
   "cell_type": "markdown",
   "id": "5e5ed2ea",
   "metadata": {},
   "source": [
    "#### Question 4\n",
    "\n",
    "##### Vocabulary Size"
   ]
  },
  {
   "cell_type": "code",
   "execution_count": 20,
   "id": "21ddf3e4",
   "metadata": {},
   "outputs": [
    {
     "name": "stdout",
     "output_type": "stream",
     "text": [
      "level:first | vocabulary size 87\n",
      "level:third | vocabulary size 87\n",
      "level:fifth | vocabulary size 88\n"
     ]
    }
   ],
   "source": [
    "def get_vocabulary_size_all_texts():\n",
    "    for text_level in text_by_grade_level:\n",
    "        url = text_by_grade_level[text_level]\n",
    "        text = get_book_text(url)\n",
    "        unique_characters = set(text)\n",
    "        vocabulary_size = len(unique_characters)\n",
    "        print('level:{} | vocabulary size {}'.format(text_level,vocabulary_size))\n",
    "get_vocabulary_size_all_texts()"
   ]
  },
  {
   "attachments": {},
   "cell_type": "markdown",
   "id": "1bde2846",
   "metadata": {},
   "source": [
    "#### Question 5\n",
    "\n",
    "##### \tWrite a paragraph arguing whether vocabulary size and lexical diversity in combination could be a better measure of text difficulty (or reading level) than either measure is by itself.\n",
    "\n",
    "Lexical diversity basically refers to the variety of words used in any text. If you have a set of text in which one set uses repetative words versus the other set that uses different words from vocabulary. If you then compare the text of both sets, most likely the second set will be very difficult to interpret by a machine. Example: manager which can be interpreted by words like boss, leader, head or chief. Whereas, using boss and head over and over in the text and compare the two sets, naturally the earlier in the example can be said to have more \"lexical diversity\" than the other set. If we look at the result of our sample Gutenberg Text, both the Vocabulary Count (VC) and Lexical Diversity (LC) are small and seem to have some relationship between however LD can be more impactful measure to the level of text difficulty/reading level if we are to consider both measure together."
   ]
  },
  {
   "cell_type": "code",
   "execution_count": null,
   "id": "4f3039ac",
   "metadata": {},
   "outputs": [],
   "source": []
  }
 ],
 "metadata": {
  "kernelspec": {
   "display_name": "Python 3",
   "language": "python",
   "name": "python3"
  },
  "language_info": {
   "codemirror_mode": {
    "name": "ipython",
    "version": 3
   },
   "file_extension": ".py",
   "mimetype": "text/x-python",
   "name": "python",
   "nbconvert_exporter": "python",
   "pygments_lexer": "ipython3",
   "version": "3.8.8"
  }
 },
 "nbformat": 4,
 "nbformat_minor": 5
}
