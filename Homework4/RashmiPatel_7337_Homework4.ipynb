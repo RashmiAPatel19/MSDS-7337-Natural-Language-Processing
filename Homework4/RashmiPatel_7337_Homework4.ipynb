{
 "cells": [
  {
   "cell_type": "markdown",
   "id": "7e16ea78",
   "metadata": {},
   "source": [
    "# SMU-MSDS-7337-Natural Language Processing HomeWork 4\n",
    "\n",
    "## By-Rashmi Patel"
   ]
  },
  {
   "cell_type": "code",
   "execution_count": 1,
   "id": "2d231f29",
   "metadata": {},
   "outputs": [],
   "source": [
    "import os\n",
    "import re\n",
    "import numpy as np\n",
    "import pandas as pd\n",
    "\n",
    "import nltk\n",
    "from nltk.tokenize import word_tokenize\n",
    "from nltk.tag import UnigramTagger\n",
    "from nltk.corpus import brown\n"
   ]
  },
  {
   "cell_type": "markdown",
   "id": "65ac8b8e",
   "metadata": {},
   "source": [
    "## Run one of the part-of-speech (POS) taggers available in Python. \n",
    "\n",
    "* Find the longest sentence you can, longer than 10 words, that the POS tagger tags correctly. Show the input and output.\n",
    "\n"
   ]
  },
  {
   "cell_type": "code",
   "execution_count": 2,
   "id": "8d98319b",
   "metadata": {},
   "outputs": [],
   "source": [
    "long_text='The Ramayana is the allegorical tale of the birth, childhood, and adult adventures of the eponymous Rama, who is an avatar of the Hindu god Vishnu and, along with his wife Sita, the embodiment of human virtue.'"
   ]
  },
  {
   "cell_type": "code",
   "execution_count": 3,
   "id": "e13a92c1",
   "metadata": {},
   "outputs": [
    {
     "data": {
      "text/plain": [
       "43"
      ]
     },
     "execution_count": 3,
     "metadata": {},
     "output_type": "execute_result"
    }
   ],
   "source": [
    "long_tokens=word_tokenize(long_text)\n",
    "len(long_tokens)"
   ]
  },
  {
   "cell_type": "code",
   "execution_count": 4,
   "id": "72039ecf",
   "metadata": {},
   "outputs": [
    {
     "data": {
      "text/plain": [
       "[('The', 'DT'),\n",
       " ('Ramayana', 'NNP'),\n",
       " ('is', 'VBZ'),\n",
       " ('the', 'DT'),\n",
       " ('allegorical', 'JJ'),\n",
       " ('tale', 'NN'),\n",
       " ('of', 'IN'),\n",
       " ('the', 'DT'),\n",
       " ('birth', 'NN'),\n",
       " (',', ','),\n",
       " ('childhood', 'NN'),\n",
       " (',', ','),\n",
       " ('and', 'CC'),\n",
       " ('adult', 'NN'),\n",
       " ('adventures', 'NNS'),\n",
       " ('of', 'IN'),\n",
       " ('the', 'DT'),\n",
       " ('eponymous', 'JJ'),\n",
       " ('Rama', 'NNP'),\n",
       " (',', ','),\n",
       " ('who', 'WP'),\n",
       " ('is', 'VBZ'),\n",
       " ('an', 'DT'),\n",
       " ('avatar', 'NN'),\n",
       " ('of', 'IN'),\n",
       " ('the', 'DT'),\n",
       " ('Hindu', 'NNP'),\n",
       " ('god', 'NN'),\n",
       " ('Vishnu', 'NNP'),\n",
       " ('and', 'CC'),\n",
       " (',', ','),\n",
       " ('along', 'IN'),\n",
       " ('with', 'IN'),\n",
       " ('his', 'PRP$'),\n",
       " ('wife', 'NN'),\n",
       " ('Sita', 'NNP'),\n",
       " (',', ','),\n",
       " ('the', 'DT'),\n",
       " ('embodiment', 'NN'),\n",
       " ('of', 'IN'),\n",
       " ('human', 'JJ'),\n",
       " ('virtue', 'NN'),\n",
       " ('.', '.')]"
      ]
     },
     "execution_count": 4,
     "metadata": {},
     "output_type": "execute_result"
    }
   ],
   "source": [
    "#penn-tagger\n",
    "nltk.pos_tag(long_tokens)"
   ]
  },
  {
   "cell_type": "markdown",
   "id": "f34feb7b",
   "metadata": {},
   "source": [
    "* Find the shortest sentence you can, shorter than 10 words, that the POS tagger fails to tag 100 percent correctly. Show the input and output. Explain your conjecture as to why the tagger might have been less than perfect with this sentence.\n"
   ]
  },
  {
   "cell_type": "code",
   "execution_count": 5,
   "id": "1c606f06",
   "metadata": {},
   "outputs": [
    {
     "data": {
      "text/plain": [
       "8"
      ]
     },
     "execution_count": 5,
     "metadata": {},
     "output_type": "execute_result"
    }
   ],
   "source": [
    "short_text='Ramayan is astory on life of Lord Rama.'\n",
    "len(short_text.split(' '))"
   ]
  },
  {
   "cell_type": "code",
   "execution_count": 6,
   "id": "a059a6d7",
   "metadata": {},
   "outputs": [
    {
     "data": {
      "text/plain": [
       "9"
      ]
     },
     "execution_count": 6,
     "metadata": {},
     "output_type": "execute_result"
    }
   ],
   "source": [
    "short_tokens=word_tokenize(short_text)\n",
    "len(short_tokens)"
   ]
  },
  {
   "cell_type": "code",
   "execution_count": 7,
   "id": "f81884aa",
   "metadata": {},
   "outputs": [
    {
     "data": {
      "text/plain": [
       "[('Ramayan', 'NNP'),\n",
       " ('is', 'VBZ'),\n",
       " ('astory', 'VBN'),\n",
       " ('on', 'IN'),\n",
       " ('life', 'NN'),\n",
       " ('of', 'IN'),\n",
       " ('Lord', 'NNP'),\n",
       " ('Rama', 'NNP'),\n",
       " ('.', '.')]"
      ]
     },
     "execution_count": 7,
     "metadata": {},
     "output_type": "execute_result"
    }
   ],
   "source": [
    "nltk.pos_tag(short_tokens)"
   ]
  },
  {
   "cell_type": "markdown",
   "id": "524b62ab",
   "metadata": {},
   "source": [
    "#### \"A\" is not tagged correctly"
   ]
  },
  {
   "cell_type": "markdown",
   "id": "eb07e074",
   "metadata": {},
   "source": [
    "## Run a different POS tagger in Python. Process the same two sentences from question 1.\n",
    "* Does it produce the same or different output?\n",
    "* Explain any differences as best you can.\n",
    "\n"
   ]
  },
  {
   "cell_type": "code",
   "execution_count": 8,
   "id": "a9653499",
   "metadata": {},
   "outputs": [],
   "source": [
    "#unigram tagger\n",
    "tagger = UnigramTagger(brown.tagged_sents())"
   ]
  },
  {
   "cell_type": "code",
   "execution_count": 9,
   "id": "582eb0be",
   "metadata": {},
   "outputs": [
    {
     "data": {
      "text/plain": [
       "[('The', 'AT'),\n",
       " ('Ramayana', None),\n",
       " ('is', 'BEZ'),\n",
       " ('the', 'AT'),\n",
       " ('allegorical', 'JJ'),\n",
       " ('tale', 'NN'),\n",
       " ('of', 'IN'),\n",
       " ('the', 'AT'),\n",
       " ('birth', 'NN'),\n",
       " (',', ','),\n",
       " ('childhood', 'NN'),\n",
       " (',', ','),\n",
       " ('and', 'CC'),\n",
       " ('adult', 'NN'),\n",
       " ('adventures', 'NNS'),\n",
       " ('of', 'IN'),\n",
       " ('the', 'AT'),\n",
       " ('eponymous', None),\n",
       " ('Rama', None),\n",
       " (',', ','),\n",
       " ('who', 'WPS'),\n",
       " ('is', 'BEZ'),\n",
       " ('an', 'AT'),\n",
       " ('avatar', None),\n",
       " ('of', 'IN'),\n",
       " ('the', 'AT'),\n",
       " ('Hindu', 'NP'),\n",
       " ('god', 'NN'),\n",
       " ('Vishnu', None),\n",
       " ('and', 'CC'),\n",
       " (',', ','),\n",
       " ('along', 'IN'),\n",
       " ('with', 'IN'),\n",
       " ('his', 'PP$'),\n",
       " ('wife', 'NN'),\n",
       " ('Sita', None),\n",
       " (',', ','),\n",
       " ('the', 'AT'),\n",
       " ('embodiment', 'NN'),\n",
       " ('of', 'IN'),\n",
       " ('human', 'JJ'),\n",
       " ('virtue', 'NN'),\n",
       " ('.', '.')]"
      ]
     },
     "execution_count": 9,
     "metadata": {},
     "output_type": "execute_result"
    }
   ],
   "source": [
    "tagger.tag(long_tokens)"
   ]
  },
  {
   "cell_type": "code",
   "execution_count": 10,
   "id": "3add95f0",
   "metadata": {},
   "outputs": [
    {
     "data": {
      "text/plain": [
       "[('Ramayan', None),\n",
       " ('is', 'BEZ'),\n",
       " ('astory', None),\n",
       " ('on', 'IN'),\n",
       " ('life', 'NN'),\n",
       " ('of', 'IN'),\n",
       " ('Lord', 'NN-TL'),\n",
       " ('Rama', None),\n",
       " ('.', '.')]"
      ]
     },
     "execution_count": 10,
     "metadata": {},
     "output_type": "execute_result"
    }
   ],
   "source": [
    "tagger.tag(short_tokens)"
   ]
  },
  {
   "cell_type": "markdown",
   "id": "0b06529c",
   "metadata": {},
   "source": [
    "#### Penn set tagger is doing better than Unigram tagger."
   ]
  },
  {
   "cell_type": "markdown",
   "id": "2c162514",
   "metadata": {},
   "source": [
    "## In a news article from this week’s news, find a random sentence of at least 10 words.\n",
    "\n",
    "* Looking at the Penn tag set, manually POS tag the sentence yourself.\n",
    "\n",
    "('US':'NNP'), ('President':'NNP'), ('Joe':'NNP'), ('Biden':'NNP'), ('will':'MD'), ('speak':'VB'), ('about':'IN'), ('the':'DT'), ('Ukraine':'NNP'), ('crisis':'NN'), ('this':'DT'), ('afternoon':'NN'), ('as':'IN'), ('the':'DT'), ('White':'NNP'), ('House':'NNP'), ('prepares':'VBZ'), ('to':'TO'), ('announce':'VB'), ('significant':'JJ'), ('new':'JJ'), ('sanctions':'NNS'), ('against':'IN'), ('Russia':'NNP')\n",
    "\n",
    "* Now run the same sentences through both taggers that you implemented for questions 1 and 2. Did either of the taggers produce the same results as you had created manually?\n",
    "* Explain any differences between the two taggers and your manual tagging as much as you can.\n"
   ]
  },
  {
   "cell_type": "code",
   "execution_count": 11,
   "id": "a43a0c7a",
   "metadata": {},
   "outputs": [
    {
     "data": {
      "text/plain": [
       "24"
      ]
     },
     "execution_count": 11,
     "metadata": {},
     "output_type": "execute_result"
    }
   ],
   "source": [
    "long_text='US President Joe Biden will speak about the Ukraine crisis this afternoon as the White House prepares to announce \"significant\" new sanctions against Russia.'\n",
    "len(long_text.split(' '))"
   ]
  },
  {
   "cell_type": "code",
   "execution_count": 12,
   "id": "9de36e33",
   "metadata": {},
   "outputs": [
    {
     "data": {
      "text/plain": [
       "27"
      ]
     },
     "execution_count": 12,
     "metadata": {},
     "output_type": "execute_result"
    }
   ],
   "source": [
    "long_tokens=word_tokenize(long_text)\n",
    "len(long_tokens)"
   ]
  },
  {
   "cell_type": "code",
   "execution_count": 13,
   "id": "760425d4",
   "metadata": {},
   "outputs": [
    {
     "data": {
      "text/plain": [
       "[('US', 'NNP'),\n",
       " ('President', 'NNP'),\n",
       " ('Joe', 'NNP'),\n",
       " ('Biden', 'NNP'),\n",
       " ('will', 'MD'),\n",
       " ('speak', 'VB'),\n",
       " ('about', 'IN'),\n",
       " ('the', 'DT'),\n",
       " ('Ukraine', 'NNP'),\n",
       " ('crisis', 'NN'),\n",
       " ('this', 'DT'),\n",
       " ('afternoon', 'NN'),\n",
       " ('as', 'IN'),\n",
       " ('the', 'DT'),\n",
       " ('White', 'NNP'),\n",
       " ('House', 'NNP'),\n",
       " ('prepares', 'VBZ'),\n",
       " ('to', 'TO'),\n",
       " ('announce', 'VB'),\n",
       " ('``', '``'),\n",
       " ('significant', 'JJ'),\n",
       " (\"''\", \"''\"),\n",
       " ('new', 'JJ'),\n",
       " ('sanctions', 'NNS'),\n",
       " ('against', 'IN'),\n",
       " ('Russia', 'NNP'),\n",
       " ('.', '.')]"
      ]
     },
     "execution_count": 13,
     "metadata": {},
     "output_type": "execute_result"
    }
   ],
   "source": [
    "nltk.pos_tag(long_tokens)"
   ]
  },
  {
   "cell_type": "code",
   "execution_count": 14,
   "id": "484f208c",
   "metadata": {},
   "outputs": [
    {
     "data": {
      "text/plain": [
       "[('US', 'NN'),\n",
       " ('President', 'NN-TL'),\n",
       " ('Joe', 'NP'),\n",
       " ('Biden', None),\n",
       " ('will', 'MD'),\n",
       " ('speak', 'VB'),\n",
       " ('about', 'IN'),\n",
       " ('the', 'AT'),\n",
       " ('Ukraine', None),\n",
       " ('crisis', 'NN'),\n",
       " ('this', 'DT'),\n",
       " ('afternoon', 'NN'),\n",
       " ('as', 'CS'),\n",
       " ('the', 'AT'),\n",
       " ('White', 'JJ-TL'),\n",
       " ('House', 'NN-TL'),\n",
       " ('prepares', 'VBZ'),\n",
       " ('to', 'TO'),\n",
       " ('announce', 'VB'),\n",
       " ('``', '``'),\n",
       " ('significant', 'JJ'),\n",
       " (\"''\", \"''\"),\n",
       " ('new', 'JJ'),\n",
       " ('sanctions', 'NNS'),\n",
       " ('against', 'IN'),\n",
       " ('Russia', 'NP'),\n",
       " ('.', '.')]"
      ]
     },
     "execution_count": 14,
     "metadata": {},
     "output_type": "execute_result"
    }
   ],
   "source": [
    "tagger.tag(long_tokens)"
   ]
  },
  {
   "cell_type": "markdown",
   "id": "54beefbc",
   "metadata": {},
   "source": [
    "#### Words Biden, Ukraine was not present in the list of tagger so couldn't tag it correctly."
   ]
  },
  {
   "cell_type": "code",
   "execution_count": null,
   "id": "74af0d4e",
   "metadata": {},
   "outputs": [],
   "source": []
  }
 ],
 "metadata": {
  "kernelspec": {
   "display_name": "Python 3",
   "language": "python",
   "name": "python3"
  },
  "language_info": {
   "codemirror_mode": {
    "name": "ipython",
    "version": 3
   },
   "file_extension": ".py",
   "mimetype": "text/x-python",
   "name": "python",
   "nbconvert_exporter": "python",
   "pygments_lexer": "ipython3",
   "version": "3.8.8"
  }
 },
 "nbformat": 4,
 "nbformat_minor": 5
}
